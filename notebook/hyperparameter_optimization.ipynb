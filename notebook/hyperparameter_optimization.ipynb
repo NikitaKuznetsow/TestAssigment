{
 "cells": [
  {
   "cell_type": "code",
   "execution_count": 15,
   "id": "c26837d6",
   "metadata": {},
   "outputs": [],
   "source": [
    "from model.dataloader import DataLoader\n",
    "from sklearn.model_selection import GridSearchCV\n",
    "from sklearn.linear_model import LogisticRegression\n",
    "import numpy as np\n",
    "import xgboost as xgb\n"
   ]
  },
  {
   "cell_type": "code",
   "execution_count": 8,
   "id": "170dc8f9",
   "metadata": {},
   "outputs": [],
   "source": [
    "dl = DataLoader()\n",
    "X_train, _ , y_train, _ = dl.get_test_train_data()\n",
    "\n",
    "cols = ['account_days_in_dc_12_24m', 'account_days_in_rem_12_24m', 'age',\n",
    "       'avg_payment_span_0_12m', 'num_active_div_by_paid_inv_0_12m',\n",
    "       'num_active_inv', 'num_arch_dc_0_12m', 'num_arch_dc_12_24m',\n",
    "       'num_arch_ok_0_12m', 'num_arch_rem_0_12m', 'num_unpaid_bills',\n",
    "       'status_last_archived_0_24m', 'status_2nd_last_archived_0_24m',\n",
    "       'status_3rd_last_archived_0_24m', 'status_max_archived_0_6_months',\n",
    "       'status_max_archived_0_12_months', 'time_hours', 'has_paid',\n",
    "       'x0_Automotive Products', 'x0_Children Products', 'x0_Clothing & Shoes',\n",
    "       'x0_Electronics', 'x0_Entertainment', 'x0_Erotic Materials',\n",
    "       'x0_Food & Beverage', 'x0_Health & Beauty', 'x0_Home & Garden',\n",
    "       'x0_Intangible products', 'x0_Jewelry & Accessories',\n",
    "       'x0_Leisure, Sport & Hobby', 'x1_F', 'x1_F+L', 'x1_F1+L', 'x1_L',\n",
    "       'x1_Nick', 'x1_no_match', 'merchant_category_freq_encode']"
   ]
  },
  {
   "cell_type": "markdown",
   "id": "5da768ae",
   "metadata": {},
   "source": [
    "## LogisticRegression"
   ]
  },
  {
   "cell_type": "code",
   "execution_count": 12,
   "id": "52f8c619",
   "metadata": {},
   "outputs": [
    {
     "name": "stdout",
     "output_type": "stream",
     "text": [
      "tuned hpyerparameters :(best parameters)  {'C': 10.0, 'penalty': 'l2'}\n",
      "roc_auc : 0.9362044803403686\n"
     ]
    }
   ],
   "source": [
    "grid = {\"C\" : np.logspace(-3, 3, 7),\n",
    "      \"penalty\" : [\"l1\",\"l2\"]\n",
    "     }\n",
    "logreg = LogisticRegression()\n",
    "logreg_cv = GridSearchCV(logreg, grid, cv=5, scoring='roc_auc')\n",
    "logreg_cv.fit(X_train[cols],y_train)\n",
    "\n",
    "print(\"tuned hpyerparameters :(best parameters) \", logreg_cv.best_params_)\n",
    "print(\"roc_auc :\", logreg_cv.best_score_)"
   ]
  },
  {
   "cell_type": "markdown",
   "id": "ce931d8f",
   "metadata": {},
   "source": [
    "## XGBboost"
   ]
  },
  {
   "cell_type": "code",
   "execution_count": null,
   "id": "094cf631",
   "metadata": {},
   "outputs": [],
   "source": [
    "grid = {\"n_estimators\": [200, 400],\n",
    "        \"max_depth\": [100],\n",
    "        \"learning_rate\": [0.001, 0.01],\n",
    "        \"n_jobs\": [1],\n",
    "        \"reg_alpha\": [0]\n",
    "       }\n",
    "model = xgb.XGBClassifier()\n",
    "\n",
    "boost_cv = GridSearchCV(model, grid, cv=5, scoring='roc_auc')\n",
    "boost_cv.fit(X_train[cols], y_train)\n",
    "\n",
    "print(\"tuned hyperparameters :(best parameters) \", boost_cv.best_params_)\n",
    "print(\"roc_auc :\", boost_cv.best_score_)"
   ]
  },
  {
   "cell_type": "code",
   "execution_count": null,
   "id": "45f4a536",
   "metadata": {},
   "outputs": [],
   "source": []
  }
 ],
 "metadata": {
  "kernelspec": {
   "display_name": "Python 3 (ipykernel)",
   "language": "python",
   "name": "python3"
  },
  "language_info": {
   "codemirror_mode": {
    "name": "ipython",
    "version": 3
   },
   "file_extension": ".py",
   "mimetype": "text/x-python",
   "name": "python",
   "nbconvert_exporter": "python",
   "pygments_lexer": "ipython3",
   "version": "3.8.9"
  }
 },
 "nbformat": 4,
 "nbformat_minor": 5
}